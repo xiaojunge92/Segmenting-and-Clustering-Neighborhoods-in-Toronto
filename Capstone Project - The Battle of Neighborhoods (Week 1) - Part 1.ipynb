{
 "cells": [
  {
   "cell_type": "markdown",
   "metadata": {},
   "source": [
    "<h1> Capstone Project - The Battle of Neighborhoods (Week 1) - Part 1 </h1>"
   ]
  },
  {
   "cell_type": "markdown",
   "metadata": {},
   "source": [
    "Now that you have been equipped with the skills and the tools to use location data to explore a geographical location, over the course of two weeks, you will have the opportunity to be as creative as you want and come up with an idea to leverage the Foursquare location data to explore or compare neighborhoods or cities of your choice or to come up with a problem that you can use the Foursquare location data to solve. If you cannot think of an idea or a problem, here are some ideas to get you started:\n",
    "\n",
    "1. In Module 3, we explored New York City and the city of Toronto and segmented and clustered their neighborhoods. Both cities are very diverse and are the financial capitals of their respective countries. One interesting idea would be to compare the neighborhoods of the two cities and determine how similar or dissimilar they are. Is New York City more like Toronto or Paris or some other multicultural city? I will leave it to you to refine this idea.\n",
    "In a city of your choice, if someone is looking to open a restaurant, where would you recommend that they open it? Similarly, if a contractor is trying to start their own business, where would you recommend that they setup their office?\n",
    "\n",
    "2. These are just a couple of many ideas and problems that can be solved using location data in addition to other datasets. No matter what you decide to do, make sure to provide sufficient justification of why you think what you want to do or solve is important and why would a client or a group of people be interested in your project."
   ]
  },
  {
   "cell_type": "markdown",
   "metadata": {},
   "source": [
    "For this week, you will required to submit the following:\n",
    "\n",
    "1. A description of the problem and a discussion of the background. (15 marks)\n",
    "2. A description of the data and how it will be used to solve the problem. (15 marks)"
   ]
  },
  {
   "cell_type": "markdown",
   "metadata": {},
   "source": [
    "<h2> QN 1: A description of the problem and a discussion of the background </h2>"
   ]
  },
  {
   "cell_type": "markdown",
   "metadata": {},
   "source": [
    "Clearly define a problem or an idea of your choice, where you would need to leverage the Foursquare location data to solve or execute. Remember that data science problems always target an audience and are meant to help a group of stakeholders solve a problem, so make sure that you explicitly describe your audience and why they would care about your problem.\n",
    "\n",
    "This submission will eventually become your Introduction/Business Problem section in your final report. So I recommend that you push the report (having your Introduction/Business Problem section only for now) to your Github repository and submit a link to it.\n"
   ]
  },
  {
   "cell_type": "markdown",
   "metadata": {},
   "source": [
    "<h3> <b> Introduction & Background: </b> </h3>"
   ]
  },
  {
   "cell_type": "markdown",
   "metadata": {},
   "source": [
    "New York City, which is often called as New York, is the most popular city in the USA, and also it is the most densely populated city in USA. New York City has been described as the cultural, financial and the media capital of the word, which significantly influence the commerce, entertainment, technology, financial of the world. \n",
    "\n",
    "With the population of almost 20 million people in its metropolitan statistical area, New York City can be described as one of the most competitive city of the world. Due to expensive rental fee and competitivity, thus the analysis and choice of location is essential for new business need to be carefully. \n",
    "\n",
    "In this assignment, we will investigate in New York City, how do we choose best location to open a restaurant and get the most benefit by using the Foursquare by providing the location data and venue information. As investigated, Italian familiies immigrated into the USA in the late 19th and 20th century. So with a huge population of immigration of Italians, they must need to find the restaurant which suitable for them. \n",
    "\n",
    "In this report, I will focus on exploring on the locations & which neighbourhood and boroughs of New York City have the most Italian restaurants that can suitable for the Italian immegrants' flavour. Moreover, I will investigate if I want to open an Italian restaurant, where should I open? \n",
    "\n"
   ]
  },
  {
   "cell_type": "markdown",
   "metadata": {},
   "source": [
    "<h3> <b> Target Audience:  </b> </h3>"
   ]
  },
  {
   "cell_type": "markdown",
   "metadata": {},
   "source": [
    "This project/report aims to provide information and analysis to the New York City restaurant overview and analysis to business stakeholders who may want to invest and open a restaurant in New York. \n",
    "\n",
    "By looking through this report, business stakeholders will have a virtual overview on which location has the most restaurant and where is the best location for stakeholders to choose to open the restaurant. "
   ]
  },
  {
   "cell_type": "code",
   "execution_count": null,
   "metadata": {},
   "outputs": [],
   "source": []
  }
 ],
 "metadata": {
  "kernelspec": {
   "display_name": "Python 3",
   "language": "python",
   "name": "python3"
  },
  "language_info": {
   "codemirror_mode": {
    "name": "ipython",
    "version": 3
   },
   "file_extension": ".py",
   "mimetype": "text/x-python",
   "name": "python",
   "nbconvert_exporter": "python",
   "pygments_lexer": "ipython3",
   "version": "3.7.4"
  }
 },
 "nbformat": 4,
 "nbformat_minor": 2
}
